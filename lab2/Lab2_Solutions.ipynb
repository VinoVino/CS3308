{
 "cells": [
  {
   "cell_type": "code",
   "execution_count": 1,
   "metadata": {
    "collapsed": true,
    "deletable": true,
    "editable": true
   },
   "outputs": [],
   "source": [
    "#James Covino\n",
    "#Lab 2 CSCI 3308\n",
    "# 03Jun2018"
   ]
  },
  {
   "cell_type": "code",
   "execution_count": 2,
   "metadata": {
    "collapsed": false,
    "deletable": true,
    "editable": true
   },
   "outputs": [
    {
     "name": "stdout",
     "output_type": "stream",
     "text": [
      "11a12\n",
      "> Cranberry\n",
      "21d21\n",
      "< Jackfruit\n",
      "31a32\n",
      "> Nectarine\n",
      "40a42\n",
      "> Prickly Pear\n"
     ]
    }
   ],
   "source": [
    "%%bash\n",
    "#Step 2: Use the diff command\n",
    "    #Which \"fruits\" have been added to or removed from fruits_v1.txt to get to fruits_v2.txt?\n",
    "diff fruits_v1.txt fruits_v2.txt"
   ]
  },
  {
   "cell_type": "code",
   "execution_count": 3,
   "metadata": {
    "collapsed": true,
    "deletable": true,
    "editable": true
   },
   "outputs": [],
   "source": [
    "    #What do the > or < character mean at the beginning of each line in the output of diff?\n",
    "    \n",
    "#        %<     lines from FILE1\n",
    "#        %>     lines from FILE2\n",
    "#        %=     lines common to FILE1 and FILE2\n",
    "# a = added; d= deleted; c= changed; numbers are line number"
   ]
  },
  {
   "cell_type": "code",
   "execution_count": 38,
   "metadata": {
    "collapsed": false,
    "deletable": true,
    "editable": true
   },
   "outputs": [
    {
     "name": "stdout",
     "output_type": "stream",
     "text": [
      "*** fruits_v1.txt\t2017-09-05 13:51:42.000000000 -0600\n",
      "--- fruits_v2.txt\t2017-09-05 13:51:42.000000000 -0600\n",
      "***************\n",
      "*** 9,14 ****\n",
      "--- 9,15 ----\n",
      "  Camu Camu berry\n",
      "  Cherries\n",
      "  Coconut\n",
      "+ Cranberry\n",
      "  Cucumber\n",
      "  Currents\n",
      "  Dates\n",
      "***************\n",
      "*** 18,24 ****\n",
      "  Gooseberry\n",
      "  Grapefruit\n",
      "  Grapes\n",
      "- Jackfruit\n",
      "  Kiwi\n",
      "  Kumquat\n",
      "  Lemon\n",
      "--- 19,24 ----\n",
      "***************\n",
      "*** 29,34 ****\n",
      "--- 29,35 ----\n",
      "  Mangosteen\n",
      "  Melon\n",
      "  Mulberry\n",
      "+ Nectarine\n",
      "  Orange\n",
      "  Papaya\n",
      "  Passion Fruit\n",
      "***************\n",
      "*** 38,43 ****\n",
      "--- 39,45 ----\n",
      "  Plum\n",
      "  Pomegranate\n",
      "  Pomelo \n",
      "+ Prickly Pear\n",
      "  Prunes\n",
      "  Raspberries\n",
      "  Strawberries\n"
     ]
    }
   ],
   "source": [
    "%%bash\n",
    "    #Try using the –c option, what does that do?\n",
    "diff -c fruits_v1.txt fruits_v2.txt\n",
    "# c option \n",
    "#   -c  -C NUM  --context[=NUM]\n",
    "              #Output NUM (default 3) lines of copied context.\n",
    "# -c lists the entries surrounding the change, and highlights the differential with +, - or !"
   ]
  },
  {
   "cell_type": "code",
   "execution_count": 52,
   "metadata": {
    "collapsed": false,
    "deletable": true,
    "editable": true
   },
   "outputs": [
    {
     "name": "stdout",
     "output_type": "stream",
     "text": [
      "      15\n"
     ]
    }
   ],
   "source": [
    "%%bash\n",
    "#Step 3: Use the wc command\n",
    "    #Find the number of lines in password_demo.txt.\n",
    " \n",
    "cat password_demo.txt | wc -l"
   ]
  },
  {
   "cell_type": "code",
   "execution_count": 55,
   "metadata": {
    "collapsed": false,
    "deletable": true,
    "editable": true
   },
   "outputs": [
    {
     "name": "stdout",
     "output_type": "stream",
     "text": [
      "     692\n"
     ]
    }
   ],
   "source": [
    "%%bash\n",
    "   #Find the number of characters in password_demo.txt.\n",
    "cat password_demo.txt | wc -m"
   ]
  },
  {
   "cell_type": "code",
   "execution_count": 46,
   "metadata": {
    "collapsed": false,
    "deletable": true,
    "editable": true
   },
   "outputs": [
    {
     "name": "stdout",
     "output_type": "stream",
     "text": [
      "root\n",
      "daemon\n",
      "sys\n",
      "games\n",
      "mail\n",
      "www-data\n",
      "backup\n",
      "nobody\n",
      "syslog\n",
      "whoopsie\n",
      "user\n",
      "sshd\n",
      "ntp\n",
      "mysql\n",
      "vboxadd\n"
     ]
    }
   ],
   "source": [
    "%%bash\n",
    "# Step 4: Use the cut command\n",
    "    # Print a list of usernames from password_demo.txt file (print the first column only).\n",
    "cut -d ':' -f1 password_demo.txt"
   ]
  },
  {
   "cell_type": "code",
   "execution_count": 60,
   "metadata": {
    "collapsed": false,
    "deletable": true,
    "editable": true
   },
   "outputs": [
    {
     "name": "stdout",
     "output_type": "stream",
     "text": [
      "LN HW1\n",
      "Slaven 1\n",
      "Eustathios 1\n",
      "Saša 0\n",
      "Gerard 1\n",
      "Babur 0\n",
      "Marin 0\n",
      "Marko 1\n"
     ]
    }
   ],
   "source": [
    "%%bash\n",
    "    # Print out only the LN column and HW1 grade column from the grades.txt file.\n",
    "cut -d' ' -f2,4 grades.txt"
   ]
  },
  {
   "cell_type": "code",
   "execution_count": 50,
   "metadata": {
    "collapsed": false,
    "deletable": true,
    "editable": true
   },
   "outputs": [
    {
     "name": "stdout",
     "output_type": "stream",
     "text": [
      "   1 0\n",
      "   3 1\n",
      "   2 2\n",
      "   1 3\n",
      "   1 5\n",
      "   2 99\n",
      "   1 999\n",
      "   2 1000\n",
      "   2 1337\n"
     ]
    }
   ],
   "source": [
    "%%bash\n",
    "# Step 5: Practice using pipes\n",
    "    # Use cut, sort, and uniq to print out the groups that users are in within password_demo.txt file. \n",
    "    #(Each group is a number. When printing, each group should get a line and there should be no duplicates printed)\n",
    "sort -t\":\" -k4 -n password_demo.txt | cut -d':' -f4 | uniq -c"
   ]
  },
  {
   "cell_type": "code",
   "execution_count": 51,
   "metadata": {
    "collapsed": true,
    "deletable": true,
    "editable": true
   },
   "outputs": [],
   "source": [
    "%%bash\n",
    "    # Pipe the output of the above into a file in your home directory\n",
    "sort -t\":\" -k4 -n password_demo.txt | cut -d':' -f4 | uniq -c > ~/Desktop/groups_password_demo.txt"
   ]
  },
  {
   "cell_type": "code",
   "execution_count": 54,
   "metadata": {
    "collapsed": false,
    "deletable": true,
    "editable": true
   },
   "outputs": [
    {
     "name": "stdout",
     "output_type": "stream",
     "text": [
      "sys:/dev\n",
      "mail:/var/mail\n",
      "www-data:/var/www\n",
      "syslog:/home/syslog\n",
      "whoopsie:/nonexistent\n",
      "sshd:/var/run/sshd\n",
      "mysql:/nonexistent\n"
     ]
    }
   ],
   "source": [
    "%%bash\n",
    "    # Use grep and cut to filter the password_demo.txt file to only display usernames that start with \n",
    "    #‘m’ ‘w’ or ‘s’ and their home directories (sixth column)\n",
    "cut -d ':' -f1,6  password_demo.txt | grep -a ^[msw]"
   ]
  },
  {
   "cell_type": "code",
   "execution_count": 77,
   "metadata": {
    "collapsed": false,
    "deletable": true,
    "editable": true
   },
   "outputs": [
    {
     "name": "stdout",
     "output_type": "stream",
     "text": [
      "0 4 34 4 053 70 473 7 0 4'7 43 17 1\n"
     ]
    }
   ],
   "source": [
    "%%bash\n",
    "# Step 6: Use the sed command\n",
    "    # Using sed and regular expressions try playing around with cryptic.txt file.\n",
    "    # Remove all the letters\n",
    "sed 's/[a-z]//g' cryptic.txt"
   ]
  },
  {
   "cell_type": "code",
   "execution_count": 61,
   "metadata": {
    "collapsed": false,
    "deletable": true,
    "editable": true
   },
   "outputs": [
    {
     "name": "stdout",
     "output_type": "stream",
     "text": [
      "yu cn ld  hr  wr bu yu cn' mk  drnk\n"
     ]
    }
   ],
   "source": [
    "%%bash\n",
    "    # Remove all the numbers\n",
    " sed 's/[0-9]//g' cryptic.txt"
   ]
  },
  {
   "cell_type": "code",
   "execution_count": 78,
   "metadata": {
    "collapsed": false,
    "deletable": true,
    "editable": true
   },
   "outputs": [
    {
     "name": "stdout",
     "output_type": "stream",
     "text": [
      "y_u c_n l__d _ h_r__ __ w___r bu_ y_u c_n'_ m_k_ __ dr_nk\n"
     ]
    }
   ],
   "source": [
    "%%bash\n",
    "    # Replace all numbers with an _\n",
    "sed 's/[0-9]/_/g' cryptic.txt"
   ]
  },
  {
   "cell_type": "code",
   "execution_count": 79,
   "metadata": {
    "collapsed": false,
    "deletable": true,
    "editable": true
   },
   "outputs": [
    {
     "name": "stdout",
     "output_type": "stream",
     "text": [
      "you can lead a horse to water but you can't make it drink\n"
     ]
    }
   ],
   "source": [
    "%%bash\n",
    "    # Using pipes, create a script that pipes together multiple sed commands to replace \n",
    "    # each number with its matching character (ie, 4 = a, 5 = s and so on).\n",
    "    #y0u c4n l34d 4 h0r53 70 w473r bu7 y0u c4n'7 m4k3 17 dr1nk\n",
    "    #you can lead a horse to water but you can't make it drink\n",
    "    # 0 = o\n",
    "    # 4 = a\n",
    "    # 1 = i\n",
    "    # 7 = t\n",
    "    # 3 = e\n",
    "    # 5 = s\n",
    "cat cryptic.txt| sed 's/0/o/g' | sed 's/4/a/g' | sed 's/1/i/g' | sed 's/7/t/g' | sed 's/3/e/g' | sed 's/5/s/g'"
   ]
  },
  {
   "cell_type": "code",
   "execution_count": 83,
   "metadata": {
    "collapsed": false,
    "deletable": true,
    "editable": true
   },
   "outputs": [
    {
     "name": "stdout",
     "output_type": "stream",
     "text": [
      "you can lead a horse to water but you can't make it drink\n"
     ]
    }
   ],
   "source": [
    "%%bash\n",
    "    #How can this be done without piping?\n",
    "cat cryptic.txt | sed 'y/041735/oaites/'"
   ]
  },
  {
   "cell_type": "code",
   "execution_count": 87,
   "metadata": {
    "collapsed": false,
    "deletable": true,
    "editable": true
   },
   "outputs": [
    {
     "name": "stdout",
     "output_type": "stream",
     "text": [
      "you can lead a horse to water but you can't make it drink\n"
     ]
    }
   ],
   "source": [
    "%%bash\n",
    "    # It is possible that you may want to reuse this script on another file?\n",
    "    # How can you make it so that the script does not have to change each time you want to run it on a different file?\n",
    "# -> Replace the 'cryptic.txt' with a $1, such that its the first agrument from running the bash command\n",
    "# when you run the script: bash crypto.sh cryptic.txt - the cryptic.txt is entered in as the first argument\n",
    "# 'My Bash Script\n",
    "    # filename crypto.sh\n",
    "    #! /bin/bash\n",
    "    #cat $1 | sed 'y/041735/oaites/' \n",
    "bash crypto.sh cryptic.txt"
   ]
  },
  {
   "cell_type": "code",
   "execution_count": 101,
   "metadata": {
    "collapsed": false,
    "deletable": true,
    "editable": true
   },
   "outputs": [
    {
     "name": "stdout",
     "output_type": "stream",
     "text": [
      "Lab Grade Averages\n",
      "Ryan Slaven 0.8\n",
      "Jephthah Eustathios 0.4\n",
      "Andreas Saša 0.6\n",
      "Godofredo Gerard 1\n",
      "Edwin Babur 0.8\n",
      "Ahmad Marin 0\n",
      "Jett Marko 0.8\n"
     ]
    }
   ],
   "source": [
    "%%bash\n",
    "# Step 7: Use the awk command\n",
    "    # Using grades.txt file print out the first and last name of each student and calculate/print \n",
    "    # the grade in percentage that they currently have (assuming equal weights for each assignment).\n",
    "tail -n 7 grades.txt |  awk 'BEGIN {print \"Lab Grade Averages\";}\n",
    "{print $1, $2,($3 + $4 + $5 + $6 + $7)/5;} END{;}'"
   ]
  },
  {
   "cell_type": "code",
   "execution_count": 102,
   "metadata": {
    "collapsed": false,
    "deletable": true,
    "editable": true
   },
   "outputs": [
    {
     "name": "stdout",
     "output_type": "stream",
     "text": [
      "Lab1 Average \t 0.714286\n"
     ]
    }
   ],
   "source": [
    "%%bash\n",
    "    # Using grades.txt file calculate and print the class average for the lab1 assignment.\n",
    "tail -n 7 grades.txt | cut -d ' ' -f3 | awk 'BEGIN {var=0;}\n",
    "{var=var+$1;} END {print \"Lab1 Average\", \"\\t\", var/7;}'"
   ]
  },
  {
   "cell_type": "code",
   "execution_count": 92,
   "metadata": {
    "collapsed": false,
    "deletable": true,
    "editable": true
   },
   "outputs": [
    {
     "name": "stdout",
     "output_type": "stream",
     "text": [
      "     770\n",
      "     770\n"
     ]
    }
   ],
   "source": [
    "%%bash\n",
    "# Step 8: More practice with regular expressions\n",
    "    # For the following problems use grep or egrep with the regex_practice_data.txt file.\n",
    "    # How many phone numbers are in the dataset?\n",
    " grep -v [a-zA-Z] regex_practice_data.txt | grep [0-9][0-9][0-9]\"-\" | wc -l\n",
    " #option 2\n",
    " grep '[0-9]\\{3\\}-[0-9]\\{4\\}' regex_practice_data.txt | wc -l"
   ]
  },
  {
   "cell_type": "code",
   "execution_count": 93,
   "metadata": {
    "collapsed": false,
    "deletable": true,
    "editable": true
   },
   "outputs": [
    {
     "name": "stdout",
     "output_type": "stream",
     "text": [
      "      51\n"
     ]
    }
   ],
   "source": [
    "%%bash\n",
    "    # How many city of Boulder phone numbers (e.g. starting with 303-441-...)?\n",
    "grep -v [a-zA-Z] regex_practice_data.txt | grep [3][0][3]\"-\"[4][4][1] |  wc -l"
   ]
  },
  {
   "cell_type": "code",
   "execution_count": 94,
   "metadata": {
    "collapsed": false,
    "deletable": true,
    "editable": true
   },
   "outputs": [
    {
     "name": "stdout",
     "output_type": "stream",
     "text": [
      "UCDenver.edu\n",
      "cia-gov\n",
      "cia.gov\n",
      "cu.edu\n",
      "cusys.edu\n",
      "geocities.com\n",
      "nato.int\n",
      "uole.com\n",
      "upicolo.org\n"
     ]
    }
   ],
   "source": [
    "%%bash\n",
    "    # How many email addresses?\n",
    "egrep  '.@.' regex_practice_data.txt  | cut -d '@' -f2- | sort | uniq"
   ]
  },
  {
   "cell_type": "code",
   "execution_count": 97,
   "metadata": {
    "collapsed": false,
    "deletable": true,
    "editable": true
   },
   "outputs": [
    {
     "name": "stdout",
     "output_type": "stream",
     "text": [
      "   17705\n"
     ]
    }
   ],
   "source": [
    "%%bash\n",
    "# cia-gov is not a valid email address so need to fileter out\n",
    "egrep  '.@.' regex_practice_data.txt  | grep -F '.' | wc -l"
   ]
  },
  {
   "cell_type": "code",
   "execution_count": 98,
   "metadata": {
    "collapsed": false,
    "deletable": true,
    "editable": true
   },
   "outputs": [
    {
     "name": "stdout",
     "output_type": "stream",
     "text": [
      "      52\n"
     ]
    }
   ],
   "source": [
    "%%bash\n",
    "    # How many email addresses are from government domains (e.g. ‘.gov’)?\n",
    "grep -F '.gov' regex_practice_data.txt | wc -l"
   ]
  }
 ],
 "metadata": {
  "kernelspec": {
   "display_name": "Python 2",
   "language": "python",
   "name": "python2"
  },
  "language_info": {
   "codemirror_mode": {
    "name": "ipython",
    "version": 2
   },
   "file_extension": ".py",
   "mimetype": "text/x-python",
   "name": "python",
   "nbconvert_exporter": "python",
   "pygments_lexer": "ipython2",
   "version": "2.7.10"
  },
  "toc": {
   "base_numbering": 1,
   "nav_menu": {},
   "number_sections": true,
   "sideBar": true,
   "skip_h1_title": false,
   "title_cell": "Table of Contents",
   "title_sidebar": "Contents",
   "toc_cell": false,
   "toc_position": {},
   "toc_section_display": true,
   "toc_window_display": false
  }
 },
 "nbformat": 4,
 "nbformat_minor": 2
}
